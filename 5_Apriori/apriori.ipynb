{
 "cells": [
  {
   "cell_type": "code",
   "execution_count": 1,
   "metadata": {},
   "outputs": [],
   "source": [
    "import numpy as np\n",
    "import matplotlib.pyplot as plt\n",
    "import pandas as pd"
   ]
  },
  {
   "cell_type": "code",
   "execution_count": 3,
   "metadata": {},
   "outputs": [],
   "source": [
    "dataset = pd.read_csv('Market_Basket_Optimisation.csv', header = None)\n",
    "transactions = []\n",
    "for i in range(0, 7501):\n",
    "    transactions.append([str(dataset.values[i,j]) for j in range(0, 20)])"
   ]
  },
  {
   "cell_type": "code",
   "execution_count": 4,
   "metadata": {},
   "outputs": [],
   "source": [
    "from apyori import apriori\n",
    "rules = apriori(transactions, min_support = 0.003, min_confidence = 0.2, min_lift = 3, min_length = 2)"
   ]
  },
  {
   "cell_type": "code",
   "execution_count": 5,
   "metadata": {},
   "outputs": [],
   "source": [
    "results = (list(rules))\n",
    "myResults = pd.DataFrame([list(x) for x in results])"
   ]
  },
  {
   "cell_type": "code",
   "execution_count": 6,
   "metadata": {},
   "outputs": [
    {
     "data": {
      "text/html": [
       "<div>\n",
       "<style scoped>\n",
       "    .dataframe tbody tr th:only-of-type {\n",
       "        vertical-align: middle;\n",
       "    }\n",
       "\n",
       "    .dataframe tbody tr th {\n",
       "        vertical-align: top;\n",
       "    }\n",
       "\n",
       "    .dataframe thead th {\n",
       "        text-align: right;\n",
       "    }\n",
       "</style>\n",
       "<table border=\"1\" class=\"dataframe\">\n",
       "  <thead>\n",
       "    <tr style=\"text-align: right;\">\n",
       "      <th></th>\n",
       "      <th>0</th>\n",
       "      <th>1</th>\n",
       "      <th>2</th>\n",
       "    </tr>\n",
       "  </thead>\n",
       "  <tbody>\n",
       "    <tr>\n",
       "      <td>0</td>\n",
       "      <td>(light cream, chicken)</td>\n",
       "      <td>0.004533</td>\n",
       "      <td>[((light cream), (chicken), 0.2905982905982905...</td>\n",
       "    </tr>\n",
       "    <tr>\n",
       "      <td>1</td>\n",
       "      <td>(mushroom cream sauce, escalope)</td>\n",
       "      <td>0.005733</td>\n",
       "      <td>[((mushroom cream sauce), (escalope), 0.300699...</td>\n",
       "    </tr>\n",
       "    <tr>\n",
       "      <td>2</td>\n",
       "      <td>(pasta, escalope)</td>\n",
       "      <td>0.005866</td>\n",
       "      <td>[((pasta), (escalope), 0.3728813559322034, 4.7...</td>\n",
       "    </tr>\n",
       "    <tr>\n",
       "      <td>3</td>\n",
       "      <td>(fromage blanc, honey)</td>\n",
       "      <td>0.003333</td>\n",
       "      <td>[((fromage blanc), (honey), 0.2450980392156863...</td>\n",
       "    </tr>\n",
       "    <tr>\n",
       "      <td>4</td>\n",
       "      <td>(herb &amp; pepper, ground beef)</td>\n",
       "      <td>0.015998</td>\n",
       "      <td>[((herb &amp; pepper), (ground beef), 0.3234501347...</td>\n",
       "    </tr>\n",
       "    <tr>\n",
       "      <td>...</td>\n",
       "      <td>...</td>\n",
       "      <td>...</td>\n",
       "      <td>...</td>\n",
       "    </tr>\n",
       "    <tr>\n",
       "      <td>149</td>\n",
       "      <td>(tomatoes, nan, frozen vegetables, mineral wat...</td>\n",
       "      <td>0.003066</td>\n",
       "      <td>[((nan, frozen vegetables, mineral water, spag...</td>\n",
       "    </tr>\n",
       "    <tr>\n",
       "      <td>150</td>\n",
       "      <td>(nan, olive oil, ground beef, mineral water, s...</td>\n",
       "      <td>0.003066</td>\n",
       "      <td>[((olive oil, nan, mineral water, spaghetti), ...</td>\n",
       "    </tr>\n",
       "    <tr>\n",
       "      <td>151</td>\n",
       "      <td>(tomatoes, nan, ground beef, mineral water, sp...</td>\n",
       "      <td>0.003066</td>\n",
       "      <td>[((tomatoes, nan, ground beef, mineral water),...</td>\n",
       "    </tr>\n",
       "    <tr>\n",
       "      <td>152</td>\n",
       "      <td>(milk, nan, olive oil, mineral water, spaghetti)</td>\n",
       "      <td>0.003333</td>\n",
       "      <td>[((milk, nan, mineral water, spaghetti), (oliv...</td>\n",
       "    </tr>\n",
       "    <tr>\n",
       "      <td>153</td>\n",
       "      <td>(tomatoes, milk, nan, mineral water, spaghetti)</td>\n",
       "      <td>0.003333</td>\n",
       "      <td>[((milk, nan, mineral water, spaghetti), (toma...</td>\n",
       "    </tr>\n",
       "  </tbody>\n",
       "</table>\n",
       "<p>154 rows × 3 columns</p>\n",
       "</div>"
      ],
      "text/plain": [
       "                                                     0         1  \\\n",
       "0                               (light cream, chicken)  0.004533   \n",
       "1                     (mushroom cream sauce, escalope)  0.005733   \n",
       "2                                    (pasta, escalope)  0.005866   \n",
       "3                               (fromage blanc, honey)  0.003333   \n",
       "4                         (herb & pepper, ground beef)  0.015998   \n",
       "..                                                 ...       ...   \n",
       "149  (tomatoes, nan, frozen vegetables, mineral wat...  0.003066   \n",
       "150  (nan, olive oil, ground beef, mineral water, s...  0.003066   \n",
       "151  (tomatoes, nan, ground beef, mineral water, sp...  0.003066   \n",
       "152   (milk, nan, olive oil, mineral water, spaghetti)  0.003333   \n",
       "153    (tomatoes, milk, nan, mineral water, spaghetti)  0.003333   \n",
       "\n",
       "                                                     2  \n",
       "0    [((light cream), (chicken), 0.2905982905982905...  \n",
       "1    [((mushroom cream sauce), (escalope), 0.300699...  \n",
       "2    [((pasta), (escalope), 0.3728813559322034, 4.7...  \n",
       "3    [((fromage blanc), (honey), 0.2450980392156863...  \n",
       "4    [((herb & pepper), (ground beef), 0.3234501347...  \n",
       "..                                                 ...  \n",
       "149  [((nan, frozen vegetables, mineral water, spag...  \n",
       "150  [((olive oil, nan, mineral water, spaghetti), ...  \n",
       "151  [((tomatoes, nan, ground beef, mineral water),...  \n",
       "152  [((milk, nan, mineral water, spaghetti), (oliv...  \n",
       "153  [((milk, nan, mineral water, spaghetti), (toma...  \n",
       "\n",
       "[154 rows x 3 columns]"
      ]
     },
     "execution_count": 6,
     "metadata": {},
     "output_type": "execute_result"
    }
   ],
   "source": [
    "myResults"
   ]
  },
  {
   "cell_type": "code",
   "execution_count": null,
   "metadata": {},
   "outputs": [],
   "source": []
  }
 ],
 "metadata": {
  "kernelspec": {
   "display_name": "Python 3",
   "language": "python",
   "name": "python3"
  },
  "language_info": {
   "codemirror_mode": {
    "name": "ipython",
    "version": 3
   },
   "file_extension": ".py",
   "mimetype": "text/x-python",
   "name": "python",
   "nbconvert_exporter": "python",
   "pygments_lexer": "ipython3",
   "version": "3.6.7"
  }
 },
 "nbformat": 4,
 "nbformat_minor": 2
}
